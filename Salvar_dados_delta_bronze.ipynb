{
  "cells": [
    {
      "cell_type": "markdown",
      "metadata": {
        "id": "view-in-github",
        "colab_type": "text"
      },
      "source": [
        "<a href=\"https://colab.research.google.com/github/marcelo-find-ai/logos/blob/main/Salvar_dados_delta_bronze.ipynb\" target=\"_parent\"><img src=\"https://colab.research.google.com/assets/colab-badge.svg\" alt=\"Open In Colab\"/></a>"
      ]
    },
    {
      "cell_type": "markdown",
      "source": [
        "```\n",
        "(base) PS C:\\Users\\mt> aws s3 ls s3://find-ai-org-data/datasets/dados_teste/bronze/unimed_florianopolis/sinistro/\n",
        "File association not found for extension .py\n",
        "2024-11-21 15:39:13  459169597 ID50056_201801 Sinistro.csv\n",
        "2024-11-21 15:41:15  604538624 ID50056_201802 Sinistro.csv\n",
        "2024-11-21 15:41:33  591872417 ID50056_201803 Sinistro.csv\n",
        "2024-11-21 15:40:57  584321565 ID50056_201804 Sinistro.csv\n",
        "2024-11-21 15:41:48  628012956 ID50056_201805 Sinistro.csv\n",
        "2024-11-21 15:49:57  617011374 ID50056_201806 Sinistro.csv\n",
        "2024-11-21 15:50:34  554080371 ID50056_201807 Sinistro.csv\n",
        "2024-11-21 15:52:40  645584312 ID50056_201808 Sinistro.csv\n",
        "2024-11-21 15:52:03  591070497 ID50056_201809 Sinistro.csv\n",
        "2024-11-21 15:52:19  603318683 ID50056_201810 Sinistro.csv\n",
        "2024-11-21 17:23:32  610442913 ID50056_201811 Sinistro.csv\n",
        "2024-11-21 17:24:18  586624830 ID50056_201812 Sinistro.csv\n",
        "2024-11-21 17:26:03  464721446 ID50056_201901 Sinistro.csv\n",
        "2024-11-21 17:26:13  575585600 ID50056_201902 Sinistro.csv\n",
        "2024-11-21 17:25:32  568262354 ID50056_201903 Sinistro.csv\n",
        "2024-11-21 17:34:35  628106245 ID50056_201904 Sinistro.csv\n",
        "2024-11-21 17:35:11  630511107 ID50056_201905 Sinistro.csv\n",
        "2024-11-21 17:36:56  663403654 ID50056_201906 Sinistro.csv\n",
        "2024-11-21 17:37:45  670524627 ID50056_201907 Sinistro.csv\n",
        "2024-11-21 17:38:53  728752508 ID50056_201908 Sinistro.csv\n",
        "2024-11-21 17:45:37  645090420 ID50056_201909 Sinistro.csv\n",
        "2024-11-21 17:47:37  723382446 ID50056_201910 Sinistro.csv\n",
        "2024-11-21 17:48:33  662425771 ID50056_201911 Sinistro.csv\n",
        "2024-11-21 17:48:48  636197938 ID50056_201912 Sinistro.csv\n",
        "2024-11-21 17:45:50  392148481 ID55228_Parte_III_201801.csv\n",
        "2024-11-21 17:54:47  529513688 ID55228_Parte_III_201802.csv\n",
        "2024-11-21 17:54:41  503006597 ID55228_Parte_III_201803.csv\n",
        "2024-11-21 17:56:31  502362552 ID55228_Parte_III_201804.csv\n",
        "2024-11-21 17:58:08  549809734 ID55228_Parte_III_201805.csv\n",
        "2024-11-21 17:58:21  542951370 ID55228_Parte_III_201806.csv\n",
        "2024-11-21 18:03:04  478883233 ID55228_Parte_III_201807.csv\n",
        "2024-11-21 18:04:43  567380396 ID55228_Parte_III_201808.csv\n",
        "2024-11-21 18:05:30  517525006 ID55228_Parte_III_201809.csv\n",
        "2024-11-21 18:07:15  522505670 ID55228_Parte_III_201810.csv\n",
        "2024-11-21 18:07:33  530312337 ID55228_Parte_III_201811.csv\n",
        "2024-11-21 18:12:20  523018266 ID55228_Parte_III_201812.csv\n",
        "2024-11-21 18:11:53  396955670 ID55228_Parte_III_201901.csv\n",
        "2024-11-21 18:14:38  507204014 ID55228_Parte_III_201902.csv\n",
        "2024-11-21 18:16:22  494823665 ID55228_Parte_III_201903.csv\n",
        "2024-11-21 18:36:35  556644818 ID55228_Parte_III_201904.csv\n",
        "2024-11-21 18:40:49  556886319 ID55228_Parte_III_201905.csv\n",
        "2024-11-21 18:41:54  592714854 ID55228_Parte_III_201906.csv\n",
        "2024-11-21 18:44:01  590406213 ID55228_Parte_III_201907.csv\n",
        "2024-11-21 18:46:38  643607032 ID55228_Parte_III_201908.csv\n",
        "2024-11-21 18:46:38  564517872 ID55228_Parte_III_201909.csv\n",
        "2024-11-21 18:51:52  638280426 ID55228_Parte_III_201910.csv\n",
        "2024-11-21 18:52:05  581697401 ID55228_Parte_III_201911.csv\n",
        "2024-11-21 18:53:37  568161588 ID55228_Parte_III_201912.csv\n",
        "2024-11-21 18:55:03  546688731 T60866_202201 Sinistro.csv\n",
        "2024-11-21 18:56:01  680288679 T60866_202202 Sinistro.csv\n",
        "2024-11-21 18:57:11  713244036 T60866_202203 Sinistro.csv\n",
        "```"
      ],
      "metadata": {
        "id": "ttvq_M37qXQb"
      }
    },
    {
      "cell_type": "code",
      "execution_count": 1,
      "metadata": {
        "id": "lIYdn1woOS1n"
      },
      "outputs": [],
      "source": [
        "# Instalar a lib\n",
        "!pip install pyspark==3.1.2 --quiet"
      ]
    },
    {
      "cell_type": "code",
      "source": [
        "# IMPORTANTE:\n",
        "# Configurar aqui as variáveis de ambiente para acesso ao datalake Find AI\n",
        "import os\n",
        "from google.colab import userdata\n",
        "\n",
        "\n",
        "os.environ['AWS_ACCESS_KEY_ID'] = userdata.get('aws_access_key_id')\n",
        "os.environ['AWS_SECRET_ACCESS_KEY'] = userdata.get('aws_secret_access_key')\n",
        "os.environ['AWS_DEFAULT_REGION'] = userdata.get('region_name')\n",
        "os.environ['AWS_ENDPOINT_URL'] = userdata.get('endpoint_url')"
      ],
      "metadata": {
        "id": "9Yhe5m2BpJNV"
      },
      "execution_count": 2,
      "outputs": []
    },
    {
      "cell_type": "code",
      "source": [
        "import pyspark"
      ],
      "metadata": {
        "id": "W-YFG8eXmhP1"
      },
      "execution_count": 3,
      "outputs": []
    },
    {
      "cell_type": "code",
      "source": [
        "spark = (pyspark.sql.SparkSession\n",
        "    .builder\n",
        "    .appName('datasus')\n",
        "    .config('spark.jars.packages', 'com.amazonaws:aws-java-sdk-bundle:1.11.819,org.apache.hadoop:hadoop-aws:3.2.0,io.delta:delta-core_2.12:1.0.1')\n",
        "    .config(\"spark.driver.memory\", \"8G\")\n",
        "    .config(\"spark.hadoop.fs.s3a.endpoint\", os.environ['AWS_ENDPOINT_URL'])\n",
        "    .config(\"spark.hadoop.fs.s3a.path.style.access\", \"true\")\n",
        "    .config(\"spark.hadoop.fs.s3a.committer.name\", \"directory\")\n",
        "    .config(\"spark.hadoop.fs.s3a.committer.staging.tmp.path\", \"/tmp/staging\")\n",
        "    .config(\"spark.hadoop.mapreduce.reduce.speculative\",\"false\")\n",
        "    .config(\"spark.hadoop.fs.s3a.access.key\", os.environ['AWS_ACCESS_KEY_ID'])\n",
        "    .config(\"spark.hadoop.fs.s3a.secret.key\", os.environ['AWS_SECRET_ACCESS_KEY'] )\n",
        "    .config(\"spark.sql.extensions\", \"io.delta.sql.DeltaSparkSessionExtension\")\n",
        "    .config(\"spark.sql.catalog.spark_catalog\", \"org.apache.spark.sql.delta.catalog.DeltaCatalog\")\n",
        "    .config(\"spark.databricks.delta.retentionDurationCheck.enabled\", \"false\")\n",
        "    .config(\"spark.delta.logStore.class\", \"org.apache.spark.sql.delta.storage.S3SingleDriverLogStore\")\n",
        "    .getOrCreate())"
      ],
      "metadata": {
        "id": "JkeO6SaPuo9q"
      },
      "execution_count": 4,
      "outputs": []
    },
    {
      "cell_type": "code",
      "source": [
        "# Lendo dados do datalake\n",
        "dados =        \"s3a://find-ai-org-data/datasets/dados_teste/bronze/unimed_florianopolis/sinistro/ID50056_*.csv\"\n",
        "delta_output = \"s3a://find-ai-org-data/delta/bronze/unimed_florianopolis/sinistro/dataset_id=ID50056\""
      ],
      "metadata": {
        "id": "TA2scJfSnJpp"
      },
      "execution_count": null,
      "outputs": []
    },
    {
      "cell_type": "code",
      "source": [
        "df = (spark.read\n",
        "      .option(\"header\", \"true\")\n",
        "      .option(\"sep\", \"|^\")\n",
        "      .option(\"inferSchema\", \"false\")\n",
        "      .option(\"encoding\", \"ISO-8859-1\")\n",
        "      .csv(dados)\n",
        "      #.cache()\n",
        "      )"
      ],
      "metadata": {
        "id": "O8IGKK2gnLF0"
      },
      "execution_count": null,
      "outputs": []
    },
    {
      "cell_type": "code",
      "source": [
        "df.show()"
      ],
      "metadata": {
        "id": "ZDdoX6Hro6ms",
        "outputId": "08a9854d-1d14-49d3-8e46-8cd50c1fb47a",
        "colab": {
          "base_uri": "https://localhost:8080/"
        }
      },
      "execution_count": null,
      "outputs": [
        {
          "output_type": "stream",
          "name": "stdout",
          "text": [
            "+-----------+-------------+--------------------+-----------------+--------------+--------------------+-----------------+--------------------+---------+----------------+----------------+---------+---------------+-------------------+--------------+---------------+-------------+-------+--------------+--------------------+------------+----------------+--------------------+---------------------+----------------------+-------------------------+---------------------------+------------------+---------------+--------------+--------------+--------------------+--------------------+-----------------+-------------+-----------------+----+---------------+-----------+--------------------+-----------------+----------------+-----------+--------------------+--------------------+------------+-------------+-------------+--------------+-------------+--------+---------+--------------+---------------------+-------------+\n",
            "|competencia|nr_guia_princ|             nr_guia|senha_solicitacao|cod_prest_capa|     nome_prest_capa|prest_capa_unimed|    grupo_prest_capa|tipo_guia|tipo_atendimento|data_atendimento|data_alta|tipo_internacao|carater_atendimento|ind_internacao|guia_acomodacao|data_execucao|    cid|item_tuss_tnum| desc_item_tuss_tnum| tipo_versao|porte_anestesico|cod_prest_executante|nome_prest_executante|grupo_prest_executante|tiss_guia_cod_contr_solic|tiss_guia_nr_conselho_solic|        lancamento|tipo_lancamento|data_pagamento|cod_prest_pgto|     nome_prest_pgto|    grupo_prest_pgto|prest_pgto_unimed|prest_pgto_uf|       cod_bnfrio|sexo|data_nascimento|nr_contrato|    tipo_contratacao|cod_unimed_bnfrio|plano_acomodacao|num_empresa|        nome_empresa|          tipo_preco|ind_fundacao|qtd_informado|val_informado|qtd_item_unico|qtd_item_pago|val_pago|val_glosa|valor_nao_pago|valor_faturado_fatura|custo_liquido|\n",
            "+-----------+-------------+--------------------+-----------------+--------------+--------------------+-----------------+--------------------+---------+----------------+----------------+---------+---------------+-------------------+--------------+---------------+-------------+-------+--------------+--------------------+------------+----------------+--------------------+---------------------+----------------------+-------------------------+---------------------------+------------------+---------------+--------------+--------------+--------------------+--------------------+-----------------+-------------+-----------------+----+---------------+-----------+--------------------+-----------------+----------------+-----------+--------------------+--------------------+------------+-------------+-------------+--------------+-------------+--------+---------+--------------+---------------------+-------------+\n",
            "|     201801|         null|       Nao Informada|             null|        300204|CLINICA SANTA HEL...|               25|6 - CREDENCIADO -...|     SADT|  SADT INTERNADO|        02/12/17|     null|           null| URGENTE/EMERGÊNCIA|             S|           null|     03/12/17|   null|      40805018|RX - TÓRAX - 1 IN...|       CBHPM|               0|              300204| CLINICA SANTA HEL...|  6 - CREDENCIADO -...|                   300204|                      37130|          PRODUÇÃO|       PRODUÇÃO|      28/02/18|        300204|CLINICA SANTA HEL...|6 - CREDENCIADO -...|               25|           SC|09414310002561163|   F|       16/12/87|    9030902|COLETIVO EMPRESARIAL|             0025|        COLETIVO|    7094357|PREFEITURA MUNICI...|VD - PRÉ-ESTABELE...|           N|            1|            0|             1|            1|    6,95|        0|             0|                    0|         6,95|\n",
            "|     201801|         null|       Nao Informada|             null|        300204|CLINICA SANTA HEL...|               25|6 - CREDENCIADO -...|     SADT|  SADT INTERNADO|        02/12/17|     null|           null| URGENTE/EMERGÊNCIA|             S|           null|     03/12/17|   null|      40805018|RX - TÓRAX - 1 IN...|       CBHPM|               0|                3229| ALCIDES SABINO SA...|      1 - COOPERADO PF|                   300204|                      37130|          PRODUÇÃO|       PRODUÇÃO|      20/02/18|        300335|CLINICA SAO VICEN...|    2 - COOPERADO PJ|               25|           SC|09414310002561163|   F|       16/12/87|    9030902|COLETIVO EMPRESARIAL|             0025|        COLETIVO|    7094357|PREFEITURA MUNICI...|VD - PRÉ-ESTABELE...|           N|            1|            0|             1|            1|    14,4|        0|             0|                    0|         14,4|\n",
            "|     201801|         null|       Nao Informada|             null|        300204|CLINICA SANTA HEL...|               25|6 - CREDENCIADO -...|     SADT|  SADT INTERNADO|        02/12/17|     null|           null| URGENTE/EMERGÊNCIA|             S|           null|     03/12/17|   null|      40805018|RX - TÓRAX - 1 IN...|       CBHPM|               0|              300204| CLINICA SANTA HEL...|  6 - CREDENCIADO -...|                   300204|                      37130|          PRODUÇÃO|       PRODUÇÃO|      28/02/18|        300204|CLINICA SANTA HEL...|6 - CREDENCIADO -...|               25|           SC|09414310002561163|   F|       16/12/87|    9030902|COLETIVO EMPRESARIAL|             0025|        COLETIVO|    7094357|PREFEITURA MUNICI...|VD - PRÉ-ESTABELE...|           N|            1|            0|             1|            1|    6,95|        0|             0|                    0|         6,95|\n",
            "|     201801|         null|                   0|          5830938|        300126|CLINICA JANE CIRU...|               25|6 - CREDENCIADO -...|     SADT|            null|        31/10/17|     null|           null| URGENTE/EMERGÊNCIA|             N|           null|     31/10/17|   null|      10101039|CONSULTA EM PRONT...|       CBHPM|               0|               17285| ROGER TSUYOSHI FU...|      12 - PLANTONISTA|                     null|                       null|GLOSA AO PRESTADOR|        REVISÃO|      28/02/18|        300126|CLINICA JANE CIRU...|6 - CREDENCIADO -...|               25|           SC|51008546002557009|   F|       04/12/84|    9570001|COLETIVO EMPRESARIAL|             0025|       PRIVATIVO|    6511077|FUNDACAO CELESC D...|CO - CUSTO OPERAC...|           S|            1|           45|             1|            0|       0|    12,35|             0|                 null|       -12,35|\n",
            "|     201801|         null|                   0|            66945|        300126|CLINICA JANE CIRU...|               25|6 - CREDENCIADO -...|     SADT|        CONSULTA|        10/01/18|     null|           null| URGENTE/EMERGÊNCIA|             N|           null|     10/01/18|   null|      10101039|CONSULTA EM PRONT...|       CBHPM|               0|               17910|  LAURA RASSI VANHONI|      12 - PLANTONISTA|                   300126|                      17910|          PRODUÇÃO|       PRODUÇÃO|      28/02/18|        300126|CLINICA JANE CIRU...|6 - CREDENCIADO -...|               25|           SC|00000593002509335|   F|       08/03/84|    9093307| COLETIVO POR ADESAO|             0025|       PRIVATIVO|    7163315|ASSOCIACAO NACION...|VD - PRÉ-ESTABELE...|           N|            1|           45|             1|            1|   52,65|        0|             0|                17,16|        52,65|\n",
            "|     201801|         null|                   0|            47760|        300601|HOSPITAL BAIA SUL...|               25|6 - CREDENCIADO -...|     SADT|        CONSULTA|        08/01/18|     null|           null| URGENTE/EMERGÊNCIA|             N|           null|     08/01/18|   null|      10101039|CONSULTA EM PRONT...|       CBHPM|               0|               19632| OTAVIO MARCOS DA ...|      12 - PLANTONISTA|                    20966|                      20966|          PRODUÇÃO|       PRODUÇÃO|      28/02/18|        300601|HOSPITAL BAIA SUL...|6 - CREDENCIADO -...|               25|           SC|30007400002572333|   F|       19/08/81| 7233000013| COLETIVO POR ADESAO|             0025|       PRIVATIVO|    7233155|IBBCA ADMINISTRAD...|VD - PRÉ-ESTABELE...|           N|            1|         58,5|             1|            1|    58,5|        0|             0|                17,16|         58,5|\n",
            "|     201801|         null|                   0|             null|        300601|HOSPITAL BAIA SUL...|               25|6 - CREDENCIADO -...|     SADT|        CONSULTA|        08/01/18|     null|           null| URGENTE/EMERGÊNCIA|             N|           null|     08/01/18|   null|      60033711|TAXA DE SALA DE R...|TAXA/ALUGUEL|            null|              300601| HOSPITAL BAIA SUL...|  6 - CREDENCIADO -...|                    20966|                      20966|          PRODUÇÃO|       PRODUÇÃO|      28/02/18|        300601|HOSPITAL BAIA SUL...|6 - CREDENCIADO -...|               25|           SC|30007400002572333|   F|       19/08/81| 7233000013| COLETIVO POR ADESAO|             0025|       PRIVATIVO|    7233155|IBBCA ADMINISTRAD...|VD - PRÉ-ESTABELE...|           N|            1|          150|             1|            1|     150|        0|             0|                    0|          150|\n",
            "|     201801|         null|                   0|             null|        300601|HOSPITAL BAIA SUL...|               25|6 - CREDENCIADO -...|     SADT|        CONSULTA|        21/12/17|     null|           null| URGENTE/EMERGÊNCIA|             N|           null|     21/12/17|   null|      70014302|AGULHA HIPODERMIC...|    MATERIAL|            null|              300601| HOSPITAL BAIA SUL...|  6 - CREDENCIADO -...|                    22950|                      22950|          PRODUÇÃO|       PRODUÇÃO|      28/02/18|        300601|HOSPITAL BAIA SUL...|6 - CREDENCIADO -...|               25|           SC|01016348097500002|null|           null|       null|                null|             0975|            null|       null|                null|                null|           N|            1|         1,17|             1|            1|    1,17|        0|             0|                 1,23|         1,17|\n",
            "|     201801|         null|                   0|             null|        300601|HOSPITAL BAIA SUL...|               25|6 - CREDENCIADO -...|     SADT|        CONSULTA|        21/12/17|     null|           null| URGENTE/EMERGÊNCIA|             N|           null|     21/12/17|   null|      70223777|EQUIPO P/INFUSAO ...|    MATERIAL|            null|              300601| HOSPITAL BAIA SUL...|  6 - CREDENCIADO -...|                    22950|                      22950|          PRODUÇÃO|       PRODUÇÃO|      28/02/18|        300601|HOSPITAL BAIA SUL...|6 - CREDENCIADO -...|               25|           SC|01016348097500002|null|           null|       null|                null|             0975|            null|       null|                null|                null|           N|            1|        44,21|             1|            1|   44,21|        0|             0|                46,42|        44,21|\n",
            "|     201801|         null|                   0|          7211013|        300601|HOSPITAL BAIA SUL...|               25|6 - CREDENCIADO -...|     SADT|        CONSULTA|        21/12/17|     null|           null| URGENTE/EMERGÊNCIA|             N|           null|     21/12/17|   null|      10101039|CONSULTA EM PRONT...|       CBHPM|               0|               22950| MARCELA ASSUNCAO ...|  13 - PROFISSIONAL...|                    22950|                      22950|          PRODUÇÃO|       PRODUÇÃO|      28/02/18|        300601|HOSPITAL BAIA SUL...|6 - CREDENCIADO -...|               25|           SC|01016348097500002|null|           null|       null|                null|             0975|            null|       null|                null|                null|           N|            1|           66|             1|            1|      72|        0|             0|                 75,6|           72|\n",
            "|     201801|         null|                   0|             null|        300601|HOSPITAL BAIA SUL...|               25|6 - CREDENCIADO -...|     SADT|        CONSULTA|        21/12/17|     null|           null| URGENTE/EMERGÊNCIA|             N|           null|     21/12/17|   null|      70142343|CATETER VENOSO PE...|    MATERIAL|            null|              300601| HOSPITAL BAIA SUL...|  6 - CREDENCIADO -...|                    22950|                      22950|          PRODUÇÃO|       PRODUÇÃO|      28/02/18|        300601|HOSPITAL BAIA SUL...|6 - CREDENCIADO -...|               25|           SC|01016348097500002|null|           null|       null|                null|             0975|            null|       null|                null|                null|           N|            1|        95,67|             1|            1|   95,67|        0|             0|               100,45|        95,67|\n",
            "|     201801|         null|                   0|             null|        300601|HOSPITAL BAIA SUL...|               25|6 - CREDENCIADO -...|     SADT|        CONSULTA|        21/12/17|     null|           null| URGENTE/EMERGÊNCIA|             N|           null|     21/12/17|   null|      90099281|CLORETO DE SODIO ...| MEDICAMENTO|            null|              300601| HOSPITAL BAIA SUL...|  6 - CREDENCIADO -...|                    22950|                      22950|          PRODUÇÃO|       PRODUÇÃO|      28/02/18|        300601|HOSPITAL BAIA SUL...|6 - CREDENCIADO -...|               25|           SC|01016348097500002|null|           null|       null|                null|             0975|            null|       null|                null|                null|           N|            1|          ,97|             1|            1|     ,97|        0|             0|                 1,02|          ,97|\n",
            "|     201801|         null|                   0|             null|        300601|HOSPITAL BAIA SUL...|               25|6 - CREDENCIADO -...|     SADT|        CONSULTA|        21/12/17|     null|           null| URGENTE/EMERGÊNCIA|             N|           null|     21/12/17|   null|      70705321|SERINGA S/AG.10ML...|    MATERIAL|            null|              300601| HOSPITAL BAIA SUL...|  6 - CREDENCIADO -...|                    22950|                      22950|          PRODUÇÃO|       PRODUÇÃO|      28/02/18|        300601|HOSPITAL BAIA SUL...|6 - CREDENCIADO -...|               25|           SC|01016348097500002|null|           null|       null|                null|             0975|            null|       null|                null|                null|           N|            1|          2,5|             1|            1|     2,5|        0|             0|                 2,63|          2,5|\n",
            "|     201801|         null|                   0|             null|        300601|HOSPITAL BAIA SUL...|               25|6 - CREDENCIADO -...|     SADT|        CONSULTA|        21/12/17|     null|           null| URGENTE/EMERGÊNCIA|             N|           null|     21/12/17|   null|      90184920|RIVOTRIL 0,25 MG ...| MEDICAMENTO|            null|              300601| HOSPITAL BAIA SUL...|  6 - CREDENCIADO -...|                    22950|                      22950|          PRODUÇÃO|       PRODUÇÃO|      28/02/18|        300601|HOSPITAL BAIA SUL...|6 - CREDENCIADO -...|               25|           SC|01016348097500002|null|           null|       null|                null|             0975|            null|       null|                null|                null|           N|            1|          ,18|             1|            1|     ,18|        0|             0|                  ,19|          ,18|\n",
            "|     201801|         null|                   0|             null|        300601|HOSPITAL BAIA SUL...|               25|6 - CREDENCIADO -...|     SADT|        CONSULTA|        21/12/17|     null|           null| URGENTE/EMERGÊNCIA|             N|           null|     21/12/17|   null|      90174046|DRAMIN B6 DL 3 MG...| MEDICAMENTO|            null|              300601| HOSPITAL BAIA SUL...|  6 - CREDENCIADO -...|                    22950|                      22950|          PRODUÇÃO|       PRODUÇÃO|      28/02/18|        300601|HOSPITAL BAIA SUL...|6 - CREDENCIADO -...|               25|           SC|01016348097500002|null|           null|       null|                null|             0975|            null|       null|                null|                null|           N|            1|         2,51|             1|            1|    2,51|        0|             0|                 2,64|         2,51|\n",
            "|     201801|         null|                   0|             null|        300601|HOSPITAL BAIA SUL...|               25|6 - CREDENCIADO -...|     SADT|        CONSULTA|        21/12/17|     null|           null| URGENTE/EMERGÊNCIA|             N|           null|     21/12/17|   null|      60033681|TAXA DE SALA DE O...|TAXA/ALUGUEL|            null|              300601| HOSPITAL BAIA SUL...|  6 - CREDENCIADO -...|                    22950|                      22950|          PRODUÇÃO|       PRODUÇÃO|      28/02/18|        300601|HOSPITAL BAIA SUL...|6 - CREDENCIADO -...|               25|           SC|01016348097500002|null|           null|       null|                null|             0975|            null|       null|                null|                null|           N|            1|        41,45|             1|            1|   41,45|        0|             0|                43,52|        41,45|\n",
            "|     201801|         null|                   0|             null|        300601|HOSPITAL BAIA SUL...|               25|6 - CREDENCIADO -...|     SADT|        CONSULTA|        21/12/17|     null|           null| URGENTE/EMERGÊNCIA|             N|           null|     21/12/17|   null|      70222800|EQUIPO INTRAFIX P...|    MATERIAL|            null|              300601| HOSPITAL BAIA SUL...|  6 - CREDENCIADO -...|                    22950|                      22950|          PRODUÇÃO|       PRODUÇÃO|      28/02/18|        300601|HOSPITAL BAIA SUL...|6 - CREDENCIADO -...|               25|           SC|01016348097500002|null|           null|       null|                null|             0975|            null|       null|                null|                null|           N|            1|        62,89|             1|            1|   62,89|        0|             0|                66,03|        62,89|\n",
            "|     201801|         null|00000000000000000001|             null|          null|                null|             null|                null|    ÚNICA|         REMOÇÃO|        02/01/18|     null|           null|            ELETIVO|             N|           null|     02/01/18|Z00    |      60018968|REMOÇÃO EM AMBULÂ...|TAXA/ALUGUEL|            null|            61059381|    PRESTADOR EXTERNO|                  null|                     null|                       null|          PRODUÇÃO|       PRODUÇÃO|          null|          null|                null|                null|             null|         null|00003058002572337|   M|       28/02/82| 7233000012| COLETIVO POR ADESAO|             0025|        COLETIVO|    7233155|IBBCA ADMINISTRAD...|VD - PRÉ-ESTABELE...|           N|            1|        279,3|             1|            1|   279,3|        0|             0|                    0|        279,3|\n",
            "|     201801|         null|00000000000000000001|             null|          null|                null|             null|                null|    ÚNICA|         REMOÇÃO|        06/12/17|     null|           null|            ELETIVO|             N|           null|     06/12/17|Z00    |      60019506|REMOÇÃO EM AMBULÂ...|TAXA/ALUGUEL|            null|            61059382|    PRESTADOR EXTERNO|                  null|                     null|                       null|          PRODUÇÃO|       PRODUÇÃO|          null|          null|                null|                null|             null|         null|00000618002519708|   M|       23/06/64| 1970000618|INDIVIDUAL OU FAM...|             0025|       PRIVATIVO|       null|                null|VD - PRÉ-ESTABELE...|           N|            1|        279,3|             1|            1|   279,3|        0|             0|                    0|        279,3|\n",
            "|     201801|         null|00000000000000000001|             null|          null|                null|             null|                null|    ÚNICA|         REMOÇÃO|        12/11/17|     null|           null|            ELETIVO|             N|           null|     12/11/17|Z00    |      60019050|REMOÇÃO EM AMBULÂ...|TAXA/ALUGUEL|            null|            61059382|    PRESTADOR EXTERNO|                  null|                     null|                       null|          PRODUÇÃO|       PRODUÇÃO|          null|          null|                null|                null|             null|         null|01000173002509849|   F|       26/07/87|    9098402| COLETIVO POR ADESAO|             0025|       PRIVATIVO|    6510604|ASSOCIACAO COMERC...|VD - PRÉ-ESTABELE...|           N|            1|        279,3|             1|            1|   279,3|        0|             0|                    0|        279,3|\n",
            "+-----------+-------------+--------------------+-----------------+--------------+--------------------+-----------------+--------------------+---------+----------------+----------------+---------+---------------+-------------------+--------------+---------------+-------------+-------+--------------+--------------------+------------+----------------+--------------------+---------------------+----------------------+-------------------------+---------------------------+------------------+---------------+--------------+--------------+--------------------+--------------------+-----------------+-------------+-----------------+----+---------------+-----------+--------------------+-----------------+----------------+-----------+--------------------+--------------------+------------+-------------+-------------+--------------+-------------+--------+---------+--------------+---------------------+-------------+\n",
            "only showing top 20 rows\n",
            "\n"
          ]
        }
      ]
    },
    {
      "cell_type": "code",
      "source": [
        "delta_output"
      ],
      "metadata": {
        "colab": {
          "base_uri": "https://localhost:8080/",
          "height": 35
        },
        "id": "3WRM8n3I47nh",
        "outputId": "51088e2d-3d6c-4bb9-f40e-c158b45d5c55"
      },
      "execution_count": null,
      "outputs": [
        {
          "output_type": "execute_result",
          "data": {
            "text/plain": [
              "'s3a://find-ai-org-data/delta/bronze/unimed_florianopolis/sinistro/dataset_id=ID50056'"
            ],
            "application/vnd.google.colaboratory.intrinsic+json": {
              "type": "string"
            }
          },
          "metadata": {},
          "execution_count": 36
        }
      ]
    },
    {
      "cell_type": "code",
      "source": [
        "# Write df in s3a as delta\n",
        "df\\\n",
        "    .write\\\n",
        "    .format(\"delta\")\\\n",
        "    .mode('overwrite')\\\n",
        "    .option(\"overwriteSchema\", \"true\")\\\n",
        "    .save(delta_output)"
      ],
      "metadata": {
        "id": "fb7VQ_GXo7bz"
      },
      "execution_count": null,
      "outputs": []
    },
    {
      "cell_type": "code",
      "source": [
        "# Test\n",
        "data = spark.read.format(\"delta\").load(delta_output)"
      ],
      "metadata": {
        "id": "X5BaBltYpDLI"
      },
      "execution_count": null,
      "outputs": []
    },
    {
      "cell_type": "code",
      "source": [
        "data.show()"
      ],
      "metadata": {
        "id": "0dbZNY5z3C5e"
      },
      "execution_count": null,
      "outputs": []
    },
    {
      "cell_type": "code",
      "source": [
        "data.count()"
      ],
      "metadata": {
        "colab": {
          "base_uri": "https://localhost:8080/"
        },
        "id": "0EvGx7_y3D58",
        "outputId": "145e4d0b-38bb-4056-ab92-09fb9c34f1c2"
      },
      "execution_count": null,
      "outputs": [
        {
          "output_type": "execute_result",
          "data": {
            "text/plain": [
              "20336482"
            ]
          },
          "metadata": {},
          "execution_count": 32
        }
      ]
    },
    {
      "cell_type": "code",
      "source": [
        "### Dados de usuarios:"
      ],
      "metadata": {
        "id": "-9Uii1JH3GTq"
      },
      "execution_count": 7,
      "outputs": []
    },
    {
      "cell_type": "code",
      "source": [
        "!aws s3 ls s3://find-ai-org-data/delta/bronze/unimed_florianopolis/sinistro/"
      ],
      "metadata": {
        "colab": {
          "base_uri": "https://localhost:8080/"
        },
        "id": "x5DeKu2t6rJE",
        "outputId": "bea53eb8-e30e-4a7b-8647-ed4615e1d0a6"
      },
      "execution_count": 13,
      "outputs": [
        {
          "output_type": "stream",
          "name": "stdout",
          "text": [
            "                           PRE dataset_id=ID50056/\n",
            "                           PRE dataset_id=ID55228/\n",
            "                           PRE dataset_id=T60866/\n"
          ]
        }
      ]
    },
    {
      "cell_type": "code",
      "source": [
        "dados = [\n",
        "    {\n",
        "        \"input\":  \"s3a://find-ai-org-data/datasets/dados_teste/bronze/unimed_florianopolis/beneficiarios/ID50052 - Dados Projeto de Dimensionamento da Rede Prestadora - Relatório 3 - parte II_ATIVO_envio.csv\",\n",
        "        \"output\": \"s3a://find-ai-org-data/delta/bronze/unimed_florianopolis/beneficiarios/dataset_id=ID50052/tabela=parte II_ATIVO_envio\",\n",
        "        \"sep\": \"|^\",\n",
        "    },\n",
        "    {\n",
        "        \"input\":  \"s3a://find-ai-org-data/datasets/dados_teste/bronze/unimed_florianopolis/beneficiarios/ID50052 - Dados Projeto de Dimensionamento da Rede Prestadora - Relatório 3 - parte II_DIFERENTE_DE_ATIVO_envio.csv\",\n",
        "        \"output\": \"s3a://find-ai-org-data/delta/bronze/unimed_florianopolis/beneficiarios/dataset_id=ID50052/tabela=parte II_DIFERENTE_DE_ATIVO_envio\",\n",
        "        \"sep\": \"|^\",\n",
        "    },\n",
        "    {\n",
        "        \"input\":  \"s3a://find-ai-org-data/datasets/dados_teste/bronze/unimed_florianopolis/beneficiarios/T60862 - Dados Projeto de Dimensionamento da Rede Prestadora - Relatório 3 - Beneficiários_ATIVO_ANONIMIZADO.csv\",\n",
        "        \"output\": \"s3a://find-ai-org-data/delta/bronze/unimed_florianopolis/beneficiarios/dataset_id=T60862/tabela=Beneficiários_ATIVO_ANONIMIZADO\",\n",
        "        \"sep\": \";\",\n",
        "    },\n",
        "    {\n",
        "        \"input\":  \"s3a://find-ai-org-data/datasets/dados_teste/bronze/unimed_florianopolis/beneficiarios/T60862 - Dados Projeto de Dimensionamento da Rede Prestadora - Relatório 3 - Beneficiários_DIFERENTE DE ATIVO_ANONIMIZADO.csv\",\n",
        "        \"output\": \"s3a://find-ai-org-data/delta/bronze/unimed_florianopolis/beneficiarios/dataset_id=T60862/tabela=Beneficiários_DIFERENTE DE ATIVO_ANONIMIZADO\",\n",
        "        \"sep\": \";\",\n",
        "    },\n",
        "]"
      ],
      "metadata": {
        "id": "mYrUHmaG7neM"
      },
      "execution_count": 5,
      "outputs": []
    },
    {
      "cell_type": "code",
      "source": [
        "# Usar isso para testar se os outputs estão ok\n",
        "\n",
        "df = spark.read\\\n",
        "      .option(\"header\", \"true\")\\\n",
        "      .option(\"sep\", dados[0][\"sep\"])\\\n",
        "      .option(\"inferSchema\", \"false\")\\\n",
        "      .option(\"encoding\", \"ISO-8859-1\")\\\n",
        "      .csv(dados[0][\"input\"])\\\n",
        "      .toPandas()"
      ],
      "metadata": {
        "id": "pbDCd8cr9xrh"
      },
      "execution_count": 65,
      "outputs": []
    },
    {
      "cell_type": "code",
      "source": [
        "df.columns"
      ],
      "metadata": {
        "colab": {
          "base_uri": "https://localhost:8080/"
        },
        "id": "jG8tfKjFBfQf",
        "outputId": "e2520207-cbc2-4e5d-8791-6605eb866b84"
      },
      "execution_count": 66,
      "outputs": [
        {
          "output_type": "execute_result",
          "data": {
            "text/plain": [
              "Index([' NOVO_COD_BENEFICIARIO', 'DATA_NASCIMENTO', 'GENERO', 'DEPENDENCIA',\n",
              "       'DATA_INCLUSAO', 'DATA_EXCLUSAO', 'SITUACAO', 'NOVO_COD_TITUTLAR',\n",
              "       'TIPO_ENDERECO', 'FINALIDADE', 'LOGRADOURO', 'NUMERO', 'COMPLEMENTO',\n",
              "       'BAIRRO', 'CIDADE', 'ESTADO', 'CEP', 'TIPO_PRECO', 'IND_FUNDACAO',\n",
              "       'TIPO_CONTRATACAO', 'NUM_EMPRESA', 'NOME_EMPRESA', 'NUM_CONTRATO',\n",
              "       'PLANO_ABRANGENCIA', 'PLANO_ACOMODACAO '],\n",
              "      dtype='object')"
            ]
          },
          "metadata": {},
          "execution_count": 66
        }
      ]
    },
    {
      "cell_type": "code",
      "source": [
        "spark.createDataFrame(df.to_dict(\"records\")).show()"
      ],
      "metadata": {
        "colab": {
          "base_uri": "https://localhost:8080/"
        },
        "id": "o8bXC5pvBbM3",
        "outputId": "91e40ae7-8e68-473f-d7a3-e93f8451cf6e"
      },
      "execution_count": 71,
      "outputs": [
        {
          "output_type": "stream",
          "name": "stdout",
          "text": [
            "+----------------------+--------------------+--------+--------------------+--------------------+-------------+-------------+---------------+-------------+------+---------------+------+------------+--------------------+--------------------+-----------------+------+------------+-----------+-------------------+-----------------+--------+--------------------+-------------------+--------------------+\n",
            "| NOVO_COD_BENEFICIARIO|              BAIRRO|     CEP|              CIDADE|         COMPLEMENTO|DATA_EXCLUSAO|DATA_INCLUSAO|DATA_NASCIMENTO|  DEPENDENCIA|ESTADO|     FINALIDADE|GENERO|IND_FUNDACAO|          LOGRADOURO|        NOME_EMPRESA|NOVO_COD_TITUTLAR|NUMERO|NUM_CONTRATO|NUM_EMPRESA|  PLANO_ABRANGENCIA|PLANO_ACOMODACAO |SITUACAO|    TIPO_CONTRATACAO|      TIPO_ENDERECO|          TIPO_PRECO|\n",
            "+----------------------+--------------------+--------+--------------------+--------------------+-------------+-------------+---------------+-------------+------+---------------+------+------------+--------------------+--------------------+-----------------+------+------------+-----------+-------------------+-----------------+--------+--------------------+-------------------+--------------------+\n",
            "|     60000190002500296|PANTANO DO SUL   ...|88067100|FLORIANOPOLIS    ...|                null|         null|   01/10/2013|     08/01/2012|    60-OUTROS|    SC|    CAPA FATURA|     M|           N|RUA ABELARDO OTAC...|ASS FUNC DA ASSEM...|00000190002500296| 133  |     9002901|    7043483|           ESTADUAL|       PRIVATIVO |   ATIVO|COLETIVO POR ADES...|RESIDENCIAL 1 (DEP)|VD - PRÉ-ESTABELE...|\n",
            "|     60000190002500296|PANTANO DO SUL   ...|88067100|FLORIANOPOLIS    ...|                null|         null|   01/10/2013|     08/01/2012|    60-OUTROS|    SC|CORRESPONDÊNCIA|     M|           N|RUA ABELARDO OTAC...|ASS FUNC DA ASSEM...|00000190002500296| 133  |     9002901|    7043483|           ESTADUAL|       PRIVATIVO |   ATIVO|COLETIVO POR ADES...|        RESIDENCIAL|VD - PRÉ-ESTABELE...|\n",
            "|     00000003002500298|ARIRIU           ...|88135020|PALHOCA          ...|                null|         null|   01/02/2008|     09/06/1937|   00-TITULAR|    SC|    CAPA FATURA|     M|           N|RUA CAETANO DE ME...|ASS FUNC DA ASSEM...|00000003002500298| 140  |     9002901|    7043483|           ESTADUAL|       PRIVATIVO |   ATIVO|COLETIVO POR ADES...|RESIDENCIAL 1 (DEP)|VD - PRÉ-ESTABELE...|\n",
            "|     00000003002500298|ARIRIU           ...|88135020|PALHOCA          ...|                null|         null|   01/02/2008|     09/06/1937|   00-TITULAR|    SC|CORRESPONDÊNCIA|     M|           N|RUA CAETANO DE ME...|ASS FUNC DA ASSEM...|00000003002500298| 140  |     9002901|    7043483|           ESTADUAL|       PRIVATIVO |   ATIVO|COLETIVO POR ADES...|        RESIDENCIAL|VD - PRÉ-ESTABELE...|\n",
            "|     00000199002500290|AGRONOMICA       ...|88025310|FLORIANOPOLIS    ...|CASA             ...|         null|   01/08/2011|     17/11/1948|   00-TITULAR|    SC|    CAPA FATURA|     F|           N|SRV FRANZONI     ...|ASS FUNC DA ASSEM...|00000199002500290| 281  |     9002901|    7043483|           ESTADUAL|       PRIVATIVO |   ATIVO|COLETIVO POR ADES...|RESIDENCIAL 1 (DEP)|VD - PRÉ-ESTABELE...|\n",
            "|     00000199002500290|AGRONOMICA       ...|88025310|FLORIANOPOLIS    ...|CASA             ...|         null|   01/08/2011|     17/11/1948|   00-TITULAR|    SC|CORRESPONDÊNCIA|     F|           N|SRV FRANZONI     ...|ASS FUNC DA ASSEM...|00000199002500290| 281  |     9002901|    7043483|           ESTADUAL|       PRIVATIVO |   ATIVO|COLETIVO POR ADES...|        RESIDENCIAL|VD - PRÉ-ESTABELE...|\n",
            "|     51000205002500294|CENTRO           ...|88015310|FLORIANOPOLIS    ...|AP 601           ...|         null|   01/08/2011|     17/10/1933|       51-MAE|    SC|    CAPA FATURA|     F|           N|RUA DOM JOAQUIM  ...|ASS FUNC DA ASSEM...|00000205002500294| 827  |     9002901|    7043483|           ESTADUAL|       PRIVATIVO |   ATIVO|COLETIVO POR ADES...|RESIDENCIAL 1 (DEP)|VD - PRÉ-ESTABELE...|\n",
            "|     51000205002500294|CENTRO           ...|88015310|FLORIANOPOLIS    ...|AP 601           ...|         null|   01/08/2011|     17/10/1933|       51-MAE|    SC|CORRESPONDÊNCIA|     F|           N|RUA DOM JOAQUIM  ...|ASS FUNC DA ASSEM...|00000205002500294| 827  |     9002901|    7043483|           ESTADUAL|       PRIVATIVO |   ATIVO|COLETIVO POR ADES...|        RESIDENCIAL|VD - PRÉ-ESTABELE...|\n",
            "|     01000084002558103|                null|    null|                null|                null|         null|   01/07/1998|     31/05/1967|09-ESPOSO (A)|  null|           null|     F|           S|                null|SIM - CAIXA DE AS...|00000084002558103|  null|     9581001| 9996511102|           NACIONAL|       PRIVATIVO |   ATIVO|COLETIVO EMPRESARIAL|               null|CO - CUSTO OPERAC...|\n",
            "|     00005084002524349|            CAMPINAS|88101300|SAO JOSE         ...|      BL II APTO 304|         null|   15/02/2016|     22/12/1965|   00-TITULAR|    SC|    CAPA FATURA|     M|           N|AVENIDA IRINEU BO...|ASSOCIACAO COMERC...|00005084002524349|   273|     9243401|    6510604|           ESTADUAL|        COLETIVO |   ATIVO|COLETIVO EMPRESARIAL|        RESIDENCIAL|VD - PRÉ-ESTABELE...|\n",
            "|     00005084002524349|            CAMPINAS|88101300|SAO JOSE         ...|      BL II APTO 304|         null|   15/02/2016|     22/12/1965|   00-TITULAR|    SC|CORRESPONDÊNCIA|     M|           N|AVENIDA IRINEU BO...|ASSOCIACAO COMERC...|00005084002524349|   273|     9243401|    6510604|           ESTADUAL|        COLETIVO |   ATIVO|COLETIVO EMPRESARIAL|        RESIDENCIAL|VD - PRÉ-ESTABELE...|\n",
            "|     09009121002505736|        VILA SANTANA|88140000|SANTO AMARO DA IM...|                null|         null|   17/02/2016|     20/11/1978|09-ESPOSO (A)|    SC|    CAPA FATURA|     M|           N|R LAURA FERREIRA ...|ASSOCIACAO COMERC...|00009121002505736|    69|     9057301|    6510604|GRUPO DE MUNICIPIOS|        COLETIVO |   ATIVO|COLETIVO EMPRESARIAL|        RESIDENCIAL|VD - PRÉ-ESTABELE...|\n",
            "|     09009121002505736|        VILA SANTANA|88140000|SANTO AMARO DA IM...|                null|         null|   17/02/2016|     20/11/1978|09-ESPOSO (A)|    SC|CORRESPONDÊNCIA|     M|           N|R LAURA FERREIRA ...|ASSOCIACAO COMERC...|00009121002505736|    69|     9057301|    6510604|GRUPO DE MUNICIPIOS|        COLETIVO |   ATIVO|COLETIVO EMPRESARIAL|        RESIDENCIAL|VD - PRÉ-ESTABELE...|\n",
            "|     06007541002557008|                null|    null|                null|                null|         null|   01/01/2008|     10/03/1999|    10-FILHOS|  null|           null|     M|           S|                null|FUNDACAO CELESC D...|00007541002557008|  null|     9570001|    6511077|           ESTADUAL|       PRIVATIVO |   ATIVO|COLETIVO EMPRESARIAL|               null|CO - CUSTO OPERAC...|\n",
            "|     09007545002557008|                null|    null|                null|                null|         null|   26/06/2009|     24/06/1961|09-ESPOSO (A)|  null|           null|     F|           S|                null|FUNDACAO CELESC D...|00007545002557008|  null|     9570001|    6511077|           ESTADUAL|       PRIVATIVO |   ATIVO|COLETIVO EMPRESARIAL|               null|CO - CUSTO OPERAC...|\n",
            "|     51007545002557009|                null|    null|                null|                null|         null|   01/10/2011|     01/08/1981|    10-FILHOS|  null|           null|     M|           S|                null|FUNDACAO CELESC D...|00007545002557009|  null|     9570001|    6511077|           ESTADUAL|       PRIVATIVO |   ATIVO|COLETIVO EMPRESARIAL|               null|CO - CUSTO OPERAC...|\n",
            "|     00007562002557006|CACUPE           ...|88050005|FLORIANOPOLIS    ...|CASA             ...|         null|   01/01/2008|     15/08/1943|   00-TITULAR|    SC|    CAPA FATURA|     M|           S|ROD HAROLDO SOARE...|FUNDACAO CELESC D...|00007562002557006| 1241 |     9570001|    6511077|           ESTADUAL|       PRIVATIVO |   ATIVO|COLETIVO EMPRESARIAL|        RESIDENCIAL|CO - CUSTO OPERAC...|\n",
            "|     00007562002557006|CACUPE           ...|88050005|FLORIANOPOLIS    ...|CASA             ...|         null|   01/01/2008|     15/08/1943|   00-TITULAR|    SC|CORRESPONDÊNCIA|     M|           S|ROD HAROLDO SOARE...|FUNDACAO CELESC D...|00007562002557006| 1241 |     9570001|    6511077|           ESTADUAL|       PRIVATIVO |   ATIVO|COLETIVO EMPRESARIAL|        RESIDENCIAL|CO - CUSTO OPERAC...|\n",
            "|     00007820002557005|                null|    null|                null|                null|         null|   01/01/2008|     23/06/1958|   00-TITULAR|  null|           null|     M|           S|                null|FUNDACAO CELESC D...|00007820002557005|  null|     9570001|    6511077|           ESTADUAL|       PRIVATIVO |   ATIVO|COLETIVO EMPRESARIAL|               null|CO - CUSTO OPERAC...|\n",
            "|     55007820002557002|                null|    null|                null|                null|         null|   01/01/2012|     07/04/1977|    60-OUTROS|  null|           null|     F|           S|                null|FUNDACAO CELESC D...|00007820002557002|  null|     9570001|    6511077|           ESTADUAL|       PRIVATIVO |   ATIVO|COLETIVO EMPRESARIAL|               null|CO - CUSTO OPERAC...|\n",
            "+----------------------+--------------------+--------+--------------------+--------------------+-------------+-------------+---------------+-------------+------+---------------+------+------------+--------------------+--------------------+-----------------+------+------------+-----------+-------------------+-----------------+--------+--------------------+-------------------+--------------------+\n",
            "only showing top 20 rows\n",
            "\n"
          ]
        }
      ]
    },
    {
      "cell_type": "code",
      "source": [
        "# Rodar ETL em todos os beneficiarios:\n",
        "\n",
        "# Marcador de conserto do dado:\n",
        "consertar = False\n",
        "\n",
        "for paths in dados:\n",
        "    # ler o dataset e dinamicamente salvar em delta\n",
        "\n",
        "    print(f\"processando input:\\n{paths['input']}\")\n",
        "\n",
        "    d = spark.read\\\n",
        "      .option(\"header\", \"true\")\\\n",
        "      .option(\"sep\", paths[\"sep\"])\\\n",
        "      .option(\"inferSchema\", \"false\")\\\n",
        "      .option(\"encoding\", \"ISO-8859-1\")\\\n",
        "      .csv(paths[\"input\"])\n",
        "\n",
        "    # Corrigir colunas que não são compatíveis com Delta:\n",
        "    if (' COD_BENEFICIARIO' in d.columns) | ('PLANO_ACOMODACAO ' in d.columns):\n",
        "        print(\"dados com defeito - consertando colunas ruins...\")\n",
        "        d = d.toPandas()\n",
        "        consertar = True\n",
        "\n",
        "    if consertar:\n",
        "        if ' NOVO_COD_BENEFICIARIO' in d.columns:\n",
        "            d[' NOVO_COD_BENEFICIARIO'] = d[' NOVO_COD_BENEFICIARIO'].str.strip()\n",
        "\n",
        "        if 'PLANO_ACOMODACAO ' in d.columns:\n",
        "            d['PLANO_ACOMODACAO '] = d['PLANO_ACOMODACAO '].str.strip()\n",
        "\n",
        "        d.columns = [col.strip() for col in d.columns]\n",
        "\n",
        "        spark.createDataFrame(d.to_dict(\"records\")).write\\\n",
        "            .format(\"delta\")\\\n",
        "            .mode('overwrite')\\\n",
        "            .option(\"overwriteSchema\", \"true\")\\\n",
        "            .save(paths[\"output\"])\n",
        "    else:\n",
        "        d.write\\\n",
        "            .format(\"delta\")\\\n",
        "            .mode('overwrite')\\\n",
        "            .option(\"overwriteSchema\", \"true\")\\\n",
        "            .save(paths[\"output\"])\n",
        "\n",
        "    print(f\"dados salvos em:\\n{paths['output']}\")\n",
        "\n",
        "    # setar \"consertar\" para False de novo\n",
        "    consertar = False"
      ],
      "metadata": {
        "colab": {
          "base_uri": "https://localhost:8080/"
        },
        "id": "e3rqESLZ6sr2",
        "outputId": "987ac93b-f373-4e6d-c17a-68dfe416df58"
      },
      "execution_count": 6,
      "outputs": [
        {
          "output_type": "stream",
          "name": "stdout",
          "text": [
            "processando input:\n",
            "s3a://find-ai-org-data/datasets/dados_teste/bronze/unimed_florianopolis/beneficiarios/ID50052 - Dados Projeto de Dimensionamento da Rede Prestadora - Relatório 3 - parte II_ATIVO_envio.csv\n",
            "dados com defeito - consertando colunas ruins...\n",
            "dados salvos em:\n",
            "s3a://find-ai-org-data/delta/bronze/unimed_florianopolis/beneficiarios/dataset_id=ID50052/tabela=parte II_ATIVO_envio\n",
            "processando input:\n",
            "s3a://find-ai-org-data/datasets/dados_teste/bronze/unimed_florianopolis/beneficiarios/ID50052 - Dados Projeto de Dimensionamento da Rede Prestadora - Relatório 3 - parte II_DIFERENTE_DE_ATIVO_envio.csv\n",
            "dados com defeito - consertando colunas ruins...\n",
            "dados salvos em:\n",
            "s3a://find-ai-org-data/delta/bronze/unimed_florianopolis/beneficiarios/dataset_id=ID50052/tabela=parte II_DIFERENTE_DE_ATIVO_envio\n",
            "processando input:\n",
            "s3a://find-ai-org-data/datasets/dados_teste/bronze/unimed_florianopolis/beneficiarios/T60862 - Dados Projeto de Dimensionamento da Rede Prestadora - Relatório 3 - Beneficiários_ATIVO_ANONIMIZADO.csv\n",
            "dados salvos em:\n",
            "s3a://find-ai-org-data/delta/bronze/unimed_florianopolis/beneficiarios/dataset_id=T60862/tabela=Beneficiários_ATIVO_ANONIMIZADO\n",
            "processando input:\n",
            "s3a://find-ai-org-data/datasets/dados_teste/bronze/unimed_florianopolis/beneficiarios/T60862 - Dados Projeto de Dimensionamento da Rede Prestadora - Relatório 3 - Beneficiários_DIFERENTE DE ATIVO_ANONIMIZADO.csv\n",
            "dados salvos em:\n",
            "s3a://find-ai-org-data/delta/bronze/unimed_florianopolis/beneficiarios/dataset_id=T60862/tabela=Beneficiários_DIFERENTE DE ATIVO_ANONIMIZADO\n"
          ]
        }
      ]
    },
    {
      "cell_type": "code",
      "source": [
        "# testando output:\n",
        "spark.read.format(\"delta\")\\\n",
        ".load(\"s3a://find-ai-org-data/delta/bronze/unimed_florianopolis/beneficiarios/dataset_id=T60862/tabela=Beneficiários_DIFERENTE DE ATIVO_ANONIMIZADO\")\\\n",
        ".show()"
      ],
      "metadata": {
        "colab": {
          "base_uri": "https://localhost:8080/"
        },
        "id": "0DonM5I3EcjT",
        "outputId": "9cfd0347-7811-4263-9c76-99181300d295"
      },
      "execution_count": 9,
      "outputs": [
        {
          "output_type": "stream",
          "name": "stdout",
          "text": [
            "+---------------------+---------------+------+-------------+-------------+-------------+--------+-----------------+-------------+----------+----------+------+-----------+------+------+------+----+--------------------+------------+--------------------+-----------+--------------------+------------+-------------------+----------------+\n",
            "|NOVO_COD_BENEFICIARIO|DATA_NASCIMENTO|GENERO|  DEPENDENCIA|DATA_INCLUSAO|DATA_EXCLUSAO|SITUACAO|NOVO_COD_TITUTLAR|TIPO_ENDERECO|FINALIDADE|LOGRADOURO|NUMERO|COMPLEMENTO|BAIRRO|CIDADE|ESTADO| CEP|          TIPO_PRECO|IND_FUNDACAO|    TIPO_CONTRATACAO|NUM_EMPRESA|        NOME_EMPRESA|NUM_CONTRATO|  PLANO_ABRANGENCIA|PLANO_ACOMODACAO|\n",
            "+---------------------+---------------+------+-------------+-------------+-------------+--------+-----------------+-------------+----------+----------+------+-----------+------+------+------+----+--------------------+------------+--------------------+-----------+--------------------+------------+-------------------+----------------+\n",
            "|    10000004002512095|       28/07/09|     M|    10-FILHOS|     13/10/20|     24/06/21|EXCLUÍDO|00000004002512095|         null|      null|      null|  null|       null|  null|  null|  null|null|VD - PRÉ-ESTABELE...|           N|COLETIVO EMPRESARIAL|       2910|MC PADARIA E CAFE...|     9120901|GRUPO DE MUNICIPIOS|        COLETIVO|\n",
            "|    10000456002501423|       03/06/15|     M|    10-FILHOS|     01/01/19|     01/06/19|EXCLUÍDO|00000456002501423|         null|      null|      null|  null|       null|  null|  null|  null|null|VD - PRÉ-ESTABELE...|           N|COLETIVO EMPRESARIAL|         71|COPAL ALIMENTOS LTDA|     9014201|GRUPO DE MUNICIPIOS|        COLETIVO|\n",
            "|    30000123002501429|       20/05/01|     F|    30-FILHAS|     01/02/19|     01/01/21|EXCLUÍDO|00000123002501429|         null|      null|      null|  null|       null|  null|  null|  null|null|VD - PRÉ-ESTABELE...|           N|COLETIVO EMPRESARIAL|         71|COPAL ALIMENTOS LTDA|     9014202|           ESTADUAL|        COLETIVO|\n",
            "|    10000565002501427|       01/08/14|     M|    10-FILHOS|     01/01/19|     01/01/20|EXCLUÍDO|00000565002501427|         null|      null|      null|  null|       null|  null|  null|  null|null|VD - PRÉ-ESTABELE...|           N|COLETIVO EMPRESARIAL|         71|COPAL ALIMENTOS LTDA|     9014202|           ESTADUAL|        COLETIVO|\n",
            "|    30000604002501427|       08/03/06|     F|    30-FILHAS|     01/01/19|     01/07/21|EXCLUÍDO|00000604002501427|         null|      null|      null|  null|       null|  null|  null|  null|null|VD - PRÉ-ESTABELE...|           N|COLETIVO EMPRESARIAL|         71|COPAL ALIMENTOS LTDA|     9014202|           ESTADUAL|        COLETIVO|\n",
            "|    10000602002501420|       09/07/11|     M|    10-FILHOS|     01/01/19|     01/07/21|EXCLUÍDO|00000602002501420|         null|      null|      null|  null|       null|  null|  null|  null|null|VD - PRÉ-ESTABELE...|           N|COLETIVO EMPRESARIAL|         71|COPAL ALIMENTOS LTDA|     9014202|           ESTADUAL|        COLETIVO|\n",
            "|    31000552002501425|       27/03/18|     F|    30-FILHAS|     01/01/19|     01/06/20|EXCLUÍDO|00000552002501425|         null|      null|      null|  null|       null|  null|  null|  null|null|VD - PRÉ-ESTABELE...|           N|COLETIVO EMPRESARIAL|         71|COPAL ALIMENTOS LTDA|     9014202|           ESTADUAL|        COLETIVO|\n",
            "|    10002442002501420|       08/02/07|     M|    10-FILHOS|     01/08/21|     10/08/21|EXCLUÍDO|00002442002501420|         null|      null|      null|  null|       null|  null|  null|  null|null|VD - PRÉ-ESTABELE...|           N|COLETIVO EMPRESARIAL|         71|COPAL ALIMENTOS LTDA|     9014202|           ESTADUAL|        COLETIVO|\n",
            "|    09000019002501429|       14/12/78|     F|09-ESPOSO (A)|     01/01/19|     14/11/19|EXCLUÍDO|00000019002501429|         null|      null|      null|  null|       null|  null|  null|  null|null|VD - PRÉ-ESTABELE...|           N|COLETIVO EMPRESARIAL|         71|COPAL ALIMENTOS LTDA|     9014203|           NACIONAL|        COLETIVO|\n",
            "|    30000616002501425|       01/09/21|     F|    30-FILHAS|     25/01/22|     01/02/22|EXCLUÍDO|00000616002501425|         null|      null|      null|  null|       null|  null|  null|  null|null|VD - PRÉ-ESTABELE...|           N|COLETIVO EMPRESARIAL|         71|COPAL ALIMENTOS LTDA|     9014201|GRUPO DE MUNICIPIOS|        COLETIVO|\n",
            "|    30000294002501428|       06/09/08|     F|    30-FILHAS|     01/08/21|     01/08/21|EXCLUÍDO|00000294002501428|         null|      null|      null|  null|       null|  null|  null|  null|null|VD - PRÉ-ESTABELE...|           N|COLETIVO EMPRESARIAL|         71|COPAL ALIMENTOS LTDA|     9014202|           ESTADUAL|        COLETIVO|\n",
            "|    09000858002501420|       12/12/70|     F|09-ESPOSO (A)|     01/09/21|     01/01/22|EXCLUÍDO|00000858002501420|         null|      null|      null|  null|       null|  null|  null|  null|null|VD - PRÉ-ESTABELE...|           N|COLETIVO EMPRESARIAL|         71|COPAL ALIMENTOS LTDA|     9014202|           ESTADUAL|        COLETIVO|\n",
            "|    30000016002501428|       12/09/09|     F|    30-FILHAS|     01/01/19|     01/01/20|EXCLUÍDO|00000016002501428|         null|      null|      null|  null|       null|  null|  null|  null|null|VD - PRÉ-ESTABELE...|           N|COLETIVO EMPRESARIAL|         71|COPAL ALIMENTOS LTDA|     9014201|GRUPO DE MUNICIPIOS|        COLETIVO|\n",
            "|    10000033002501425|       16/11/18|     M|    10-FILHOS|     07/01/19|     25/03/19|EXCLUÍDO|00000033002501425|         null|      null|      null|  null|       null|  null|  null|  null|null|VD - PRÉ-ESTABELE...|           N|COLETIVO EMPRESARIAL|         71|COPAL ALIMENTOS LTDA|     9014203|           NACIONAL|        COLETIVO|\n",
            "|    30001143002501423|       23/10/19|     F|    30-FILHAS|     05/02/21|     18/02/21|EXCLUÍDO|00001143002501423|         null|      null|      null|  null|       null|  null|  null|  null|null|VD - PRÉ-ESTABELE...|           N|COLETIVO EMPRESARIAL|         71|COPAL ALIMENTOS LTDA|     9014202|           ESTADUAL|        COLETIVO|\n",
            "|    10001143002501429|       19/01/17|     M|    10-FILHOS|     05/02/21|     18/02/21|EXCLUÍDO|00001143002501429|         null|      null|      null|  null|       null|  null|  null|  null|null|VD - PRÉ-ESTABELE...|           N|COLETIVO EMPRESARIAL|         71|COPAL ALIMENTOS LTDA|     9014202|           ESTADUAL|        COLETIVO|\n",
            "|    30000252002501423|       23/10/19|     F|    30-FILHAS|     18/02/21|     01/07/21|EXCLUÍDO|00000252002501423|         null|      null|      null|  null|       null|  null|  null|  null|null|VD - PRÉ-ESTABELE...|           N|COLETIVO EMPRESARIAL|         71|COPAL ALIMENTOS LTDA|     9014203|           NACIONAL|        COLETIVO|\n",
            "|    10000252002501429|       19/01/17|     M|    10-FILHOS|     18/02/21|     01/07/21|EXCLUÍDO|00000252002501429|         null|      null|      null|  null|       null|  null|  null|  null|null|VD - PRÉ-ESTABELE...|           N|COLETIVO EMPRESARIAL|         71|COPAL ALIMENTOS LTDA|     9014203|           NACIONAL|        COLETIVO|\n",
            "|    11000565002501425|       12/01/07|     M|    10-FILHOS|     01/01/19|     01/01/20|EXCLUÍDO|00000565002501425|         null|      null|      null|  null|       null|  null|  null|  null|null|VD - PRÉ-ESTABELE...|           N|COLETIVO EMPRESARIAL|         71|COPAL ALIMENTOS LTDA|     9014202|           ESTADUAL|        COLETIVO|\n",
            "|    10000409002501425|       08/04/13|     M|    10-FILHOS|     01/01/19|     01/06/20|EXCLUÍDO|00000409002501425|         null|      null|      null|  null|       null|  null|  null|  null|null|VD - PRÉ-ESTABELE...|           N|COLETIVO EMPRESARIAL|         71|COPAL ALIMENTOS LTDA|     9014201|GRUPO DE MUNICIPIOS|        COLETIVO|\n",
            "+---------------------+---------------+------+-------------+-------------+-------------+--------+-----------------+-------------+----------+----------+------+-----------+------+------+------+----+--------------------+------------+--------------------+-----------+--------------------+------------+-------------------+----------------+\n",
            "only showing top 20 rows\n",
            "\n"
          ]
        }
      ]
    },
    {
      "cell_type": "code",
      "source": [],
      "metadata": {
        "id": "Sp3aMnJRJNLW"
      },
      "execution_count": null,
      "outputs": []
    }
  ],
  "metadata": {
    "colab": {
      "provenance": [],
      "include_colab_link": true
    },
    "kernelspec": {
      "display_name": "Python 3",
      "name": "python3"
    }
  },
  "nbformat": 4,
  "nbformat_minor": 0
}